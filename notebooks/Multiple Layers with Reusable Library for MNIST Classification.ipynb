{
 "cells": [
  {
   "cell_type": "markdown",
   "metadata": {},
   "source": [
    "# Multiple Layers with Reusable Library for MNIST Classification"
   ]
  },
  {
   "cell_type": "markdown",
   "metadata": {},
   "source": [
    "## Details\n",
    "\n",
    "* Reusable library allows arbitrary number of layers without adjusting propogation loop\n",
    "* Layers = multiple\n",
    "* Actionvation Function = tanh\n",
    "* Error Function = MSE"
   ]
  },
  {
   "cell_type": "markdown",
   "metadata": {},
   "source": [
    "## References\n",
    "\n",
    "* [Neural Network from scatch in Python](https://towardsdatascience.com/math-neural-network-from-scratch-in-python-d6da9f29ce65)"
   ]
  },
  {
   "cell_type": "markdown",
   "metadata": {},
   "source": [
    "## Do the Math"
   ]
  },
  {
   "cell_type": "markdown",
   "metadata": {},
   "source": [
    "### Key Formulas for Back-Propagation\n",
    "\n",
    "\n",
    "#### Derivative of Error wrt Weights ($dE/dW$)\n",
    "\n",
    "$$ dE/dW = dE/dY * dY/dW $$\n",
    "\n",
    "* Derivative of Error wrt Weights is dependent on Derivative of Error wrt Output, as well as Derivative of Output wrt Weights. \n",
    "* This is the gradient we are trying to descend.\n",
    "* $dE/dY$ depends on choice of Error Function (Cost Function)\n",
    "  * For Mean Squred Error (MSE), $dE/dY$ simplifies to difference between Predicted vs Expected Output ($Y_p - Y_0$)\n",
    "* $dY/dW$ depends on what that layer actually does\n",
    " \n",
    "  * for **Activation Layer**, there is no \"learnable\" parameters, hence derivative is not available and consider it as 0.\n",
    "  * for **Fully Connected Layer**, it simplies to $dY/dW = X$\n",
    "\n",
    "#### Derivative of Error wrt Bias ($dE/dB$)\n",
    "\n",
    "$$ dE/dB = dE/dY $$\n",
    "\n",
    "* Derivative of Error wrt Bias is just Derivative of Error wrt Output\n",
    "\n",
    "\n",
    "#### Derivative of Error wrt Input ($dE/dX$)\n",
    "\n",
    "$$ dE/dX = dE/dY * dY/dX $$\n",
    "\n",
    "* Derivative of Error wrt Input can be calculated from Derivative of Error wrt Output. \n",
    "* **Hence, error can be back-progated up the layers!**\n",
    "* Again, $dY/dX$ depens on the layer type\n",
    "  * for **Activation Layer**, it depends on chosen **Activation Function** and its Derivative\n",
    "  * for **Fully Connected Layer**, it simplies to $dY/dX = W$\n"
   ]
  },
  {
   "cell_type": "markdown",
   "metadata": {},
   "source": [
    "### Apply Chain Rule Across Layers for Back-Propagating Error\n",
    "\n",
    "For a 3 layer net, error $dE/dY$ can be back-propagated via below application of Chain Rule.\n",
    "\n",
    "$$ dE/dX = dH_1/dX * dH_2/dH_1 * dY/dH_2 * dE/dY $$\n",
    "\n",
    "where,\n",
    "\n",
    "* $dH_1/dX$ is the derivative of Layer 1 wrt to Original Input\n",
    "* $dH_2/dH_1$ is the derivative of Layer 2 wrt Layout 1 Output\n",
    "* $dY/dH_2$ is the derivative of Layer 3 wrt Layouer 2 Output\n",
    "* $dE/dY$ is the derivative of final output's Error with respect to final Prediction\n",
    "* $dE/dX$ is the derivative of final output's Error with respect to Original input\n",
    "\n"
   ]
  },
  {
   "cell_type": "markdown",
   "metadata": {},
   "source": [
    "### Nota Bene\n",
    "\n",
    "* Each layer needs to propagate Error backwards by mutiplying that layer's Output Error by the Derivative of Output with respect to Input, for that layer\n",
    "* Activation Layers have no \"learnable\" weights, hence there are no weights to adjust and there is no need to calculate $dE/dW$ (it would be zero anyways, since $dY/dW$ is undefined and basically 0)."
   ]
  },
  {
   "cell_type": "markdown",
   "metadata": {},
   "source": [
    "## Define the Library"
   ]
  },
  {
   "cell_type": "markdown",
   "metadata": {},
   "source": [
    "### Layer base class"
   ]
  },
  {
   "cell_type": "code",
   "execution_count": 12,
   "metadata": {},
   "outputs": [],
   "source": [
    "# Base class\n",
    "class Layer:\n",
    "    def __init__(self):\n",
    "        self.input = None\n",
    "        self.output = None\n",
    "        np.random.seed(42)\n",
    "\n",
    "    # computes the output Y of a layer for a given input X\n",
    "    def forward_propagation(self, input):\n",
    "        raise NotImplementedError\n",
    "\n",
    "    # computes dE/dX for a given dE/dY (and update parameters if any)\n",
    "    def backward_propagation(self, output_error, learning_rate):\n",
    "        raise NotImplementedError"
   ]
  },
  {
   "cell_type": "markdown",
   "metadata": {},
   "source": [
    "### Fully Connected Layer"
   ]
  },
  {
   "cell_type": "code",
   "execution_count": 13,
   "metadata": {},
   "outputs": [],
   "source": [
    "# from layer import Layer\n",
    "\n",
    "import numpy as np\n",
    "\n",
    "# inherit from base class Layer\n",
    "class FCLayer(Layer):\n",
    "    # input_size = number of input neurons\n",
    "    # output_size = number of output neurons\n",
    "    def __init__(self, input_size, output_size):\n",
    "        self.weights = np.random.rand(input_size, output_size) - 0.5\n",
    "        self.bias = np.random.rand(1, output_size) - 0.5\n",
    "\n",
    "    # returns output for a given input\n",
    "    def forward_propagation(self, input_data):\n",
    "        self.input = input_data\n",
    "        self.output = np.dot(self.input, self.weights) + self.bias\n",
    "        return self.output\n",
    "\n",
    "    # computes dE/dW, dE/dB for a given output_error=dE/dY. Returns input_error=dE/dX.\n",
    "    def backward_propagation(self, output_error, learning_rate):\n",
    "        input_error = np.dot(output_error, self.weights.T)\n",
    "        weights_error = np.dot(self.input.T, output_error)\n",
    "        # dBias = output_error\n",
    "\n",
    "        # update parameters\n",
    "        self.weights -= learning_rate * weights_error\n",
    "        self.bias -= learning_rate * output_error\n",
    "        return input_error"
   ]
  },
  {
   "cell_type": "markdown",
   "metadata": {},
   "source": [
    "### Activation Layer"
   ]
  },
  {
   "cell_type": "code",
   "execution_count": 14,
   "metadata": {},
   "outputs": [],
   "source": [
    "# from layer import Layer\n",
    "\n",
    "# inherit from base class Layer\n",
    "class ActivationLayer(Layer):\n",
    "    def __init__(self, activation, activation_prime):\n",
    "        self.activation = activation\n",
    "        self.activation_prime = activation_prime\n",
    "\n",
    "    # returns the activated input\n",
    "    def forward_propagation(self, input_data):\n",
    "        self.input = input_data\n",
    "        self.output = self.activation(self.input)\n",
    "        return self.output\n",
    "\n",
    "    # Returns input_error=dE/dX for a given output_error=dE/dY.\n",
    "    # learning_rate is not used because there is no \"learnable\" parameters.\n",
    "    def backward_propagation(self, output_error, learning_rate):\n",
    "        return self.activation_prime(self.input) * output_error"
   ]
  },
  {
   "cell_type": "markdown",
   "metadata": {},
   "source": [
    "### Define Activation Function and it's Derivative"
   ]
  },
  {
   "cell_type": "code",
   "execution_count": 15,
   "metadata": {},
   "outputs": [],
   "source": [
    "import numpy as np\n",
    "\n",
    "# activation function and its derivative\n",
    "def tanh(x):\n",
    "    return np.tanh(x);\n",
    "\n",
    "def tanh_prime(x):\n",
    "    return 1-np.tanh(x)**2;"
   ]
  },
  {
   "cell_type": "markdown",
   "metadata": {},
   "source": [
    "### Define Loss Function and its Derivative"
   ]
  },
  {
   "cell_type": "code",
   "execution_count": 16,
   "metadata": {},
   "outputs": [],
   "source": [
    "import numpy as np\n",
    "\n",
    "# loss function and its derivative\n",
    "def mse(y_true, y_pred):\n",
    "    return np.mean(np.power(y_true-y_pred, 2));\n",
    "\n",
    "def mse_prime(y_true, y_pred):\n",
    "    return 2*(y_pred-y_true)/y_true.size;"
   ]
  },
  {
   "cell_type": "markdown",
   "metadata": {},
   "source": [
    "### Wrap everything together and expose fit/predict APIs via a Network class"
   ]
  },
  {
   "cell_type": "code",
   "execution_count": 17,
   "metadata": {},
   "outputs": [],
   "source": [
    "class Network:\n",
    "    def __init__(self):\n",
    "        self.layers = []\n",
    "        self.loss = None\n",
    "        self.loss_prime = None\n",
    "\n",
    "    # add layer to network\n",
    "    def add(self, layer):\n",
    "        self.layers.append(layer)\n",
    "\n",
    "    # set loss to use\n",
    "    def use(self, loss, loss_prime):\n",
    "        self.loss = loss\n",
    "        self.loss_prime = loss_prime\n",
    "\n",
    "    # predict output for given input\n",
    "    def predict(self, input_data):\n",
    "        # sample dimension first\n",
    "        samples = len(input_data)\n",
    "        result = []\n",
    "\n",
    "        # run network over all samples\n",
    "        for i in range(samples):\n",
    "            # forward propagation\n",
    "            output = input_data[i]\n",
    "            for layer in self.layers:\n",
    "                output = layer.forward_propagation(output)\n",
    "            result.append(output)\n",
    "\n",
    "        return result\n",
    "\n",
    "    # train the network\n",
    "    def fit(self, x_train, y_train, epochs, learning_rate):\n",
    "        # sample dimension first\n",
    "        samples = len(x_train)\n",
    "\n",
    "        # training loop\n",
    "        for i in range(epochs):\n",
    "            err = 0\n",
    "            for j in range(samples):\n",
    "                # forward propagation\n",
    "                output = x_train[j]\n",
    "                for layer in self.layers:\n",
    "                    output = layer.forward_propagation(output)\n",
    "\n",
    "                # compute loss (for display purpose only)\n",
    "                err += self.loss(y_train[j], output)\n",
    "\n",
    "                # backward propagation\n",
    "                error = self.loss_prime(y_train[j], output)\n",
    "                for layer in reversed(self.layers):\n",
    "                    error = layer.backward_propagation(error, learning_rate)\n",
    "\n",
    "            # calculate average error on all samples\n",
    "            err /= samples\n",
    "            if ((i+1) % 20 == 0):\n",
    "                print('epoch %d/%d   error=%f' % (i+1, epochs, err))"
   ]
  },
  {
   "cell_type": "markdown",
   "metadata": {},
   "source": [
    "## Unit Test"
   ]
  },
  {
   "cell_type": "markdown",
   "metadata": {},
   "source": [
    "### Solve XOR"
   ]
  },
  {
   "cell_type": "code",
   "execution_count": 27,
   "metadata": {},
   "outputs": [
    {
     "name": "stdout",
     "output_type": "stream",
     "text": [
      "epoch 20/500   error=0.294873\n",
      "epoch 40/500   error=0.278176\n",
      "epoch 60/500   error=0.241852\n",
      "epoch 80/500   error=0.210989\n",
      "epoch 100/500   error=0.187060\n",
      "epoch 120/500   error=0.147641\n",
      "epoch 140/500   error=0.071084\n",
      "epoch 160/500   error=0.021973\n",
      "epoch 180/500   error=0.010032\n",
      "epoch 200/500   error=0.006044\n",
      "epoch 220/500   error=0.004197\n",
      "epoch 240/500   error=0.003164\n",
      "epoch 260/500   error=0.002515\n",
      "epoch 280/500   error=0.002074\n",
      "epoch 300/500   error=0.001757\n",
      "epoch 320/500   error=0.001519\n",
      "epoch 340/500   error=0.001334\n",
      "epoch 360/500   error=0.001187\n",
      "epoch 380/500   error=0.001068\n",
      "epoch 400/500   error=0.000969\n",
      "epoch 420/500   error=0.000886\n",
      "epoch 440/500   error=0.000815\n",
      "epoch 460/500   error=0.000754\n",
      "epoch 480/500   error=0.000701\n",
      "epoch 500/500   error=0.000655\n",
      "[array([[0.00203502]]), array([[0.96193642]]), array([[0.9660953]]), array([[-0.00299372]])]\n"
     ]
    }
   ],
   "source": [
    "import numpy as np\n",
    "\n",
    "#from network import Network\n",
    "#from fc_layer import FCLayer\n",
    "#from activation_layer import ActivationLayer\n",
    "#from activations import tanh, tanh_prime\n",
    "#from losses import mse, mse_prime\n",
    "\n",
    "# training data\n",
    "x_train = np.array([[[0,0]], [[0,1]], [[1,0]], [[1,1]]])\n",
    "y_train = np.array([[[0]], [[1]], [[1]], [[0]]])\n",
    "\n",
    "# network\n",
    "net = Network()\n",
    "net.add(FCLayer(2, 3))\n",
    "net.add(ActivationLayer(tanh, tanh_prime))\n",
    "net.add(FCLayer(3, 1))\n",
    "net.add(ActivationLayer(tanh, tanh_prime))\n",
    "\n",
    "# train\n",
    "net.use(mse, mse_prime)\n",
    "net.fit(x_train, y_train, epochs=500, learning_rate=0.1)\n",
    "\n",
    "# test\n",
    "out = net.predict(x_train)\n",
    "print(out)"
   ]
  },
  {
   "cell_type": "code",
   "execution_count": null,
   "metadata": {},
   "outputs": [],
   "source": []
  }
 ],
 "metadata": {
  "kernelspec": {
   "display_name": "Python 3",
   "language": "python",
   "name": "python3"
  },
  "language_info": {
   "codemirror_mode": {
    "name": "ipython",
    "version": 3
   },
   "file_extension": ".py",
   "mimetype": "text/x-python",
   "name": "python",
   "nbconvert_exporter": "python",
   "pygments_lexer": "ipython3",
   "version": "3.7.7"
  }
 },
 "nbformat": 4,
 "nbformat_minor": 4
}
